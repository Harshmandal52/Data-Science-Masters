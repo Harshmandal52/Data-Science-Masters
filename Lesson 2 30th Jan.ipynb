{
 "cells": [
  {
   "cell_type": "code",
   "execution_count": 1,
   "id": "2bdac53b-2137-41cc-81a2-2918fb87e37c",
   "metadata": {},
   "outputs": [
    {
     "data": {
      "text/plain": [
       "55"
      ]
     },
     "execution_count": 1,
     "metadata": {},
     "output_type": "execute_result"
    }
   ],
   "source": [
    "int(\"55\")"
   ]
  },
  {
   "cell_type": "code",
   "execution_count": 2,
   "id": "6c327108-2267-4912-8e51-531f51a0e448",
   "metadata": {},
   "outputs": [
    {
     "name": "stdout",
     "output_type": "stream",
     "text": [
      "Hello World\n"
     ]
    }
   ],
   "source": [
    "print(\"Hello World\")"
   ]
  },
  {
   "cell_type": "code",
   "execution_count": 3,
   "id": "e64ede0c-ae5a-4f0e-be02-c8b040db9ae0",
   "metadata": {},
   "outputs": [
    {
     "name": "stdout",
     "output_type": "stream",
     "text": [
      "My age is: 25\n"
     ]
    }
   ],
   "source": [
    "age=25\n",
    "print(\"My age is:\",age)"
   ]
  },
  {
   "cell_type": "code",
   "execution_count": null,
   "id": "6a5a22ce-b1ca-42e0-8a13-04f57d696aba",
   "metadata": {},
   "outputs": [
    {
     "name": "stdout",
     "output_type": "stream",
     "text": [
      "My age is: {age}\n"
     ]
    }
   ],
   "source": [
    "print(\"My age is: {age}\")"
   ]
  },
  {
   "cell_type": "code",
   "execution_count": 5,
   "id": "4eba15fc-03aa-44e1-a4cb-90bd332d6ce4",
   "metadata": {},
   "outputs": [
    {
     "name": "stdout",
     "output_type": "stream",
     "text": [
      "My age is: 25\n"
     ]
    }
   ],
   "source": [
    "## f string\n",
    "print(f\"My age is: {age}\")"
   ]
  },
  {
   "cell_type": "code",
   "execution_count": 7,
   "id": "8483ce61-27cd-4d62-8cc6-cfacaa913fe2",
   "metadata": {},
   "outputs": [
    {
     "name": "stdout",
     "output_type": "stream",
     "text": [
      "My name is Harsh and age is 55\n"
     ]
    }
   ],
   "source": [
    "## format()\n",
    "name=\"Harsh\"\n",
    "age=55\n",
    "print(\"My name is {} and age is {}\".format(name,age))"
   ]
  },
  {
   "cell_type": "code",
   "execution_count": null,
   "id": "9ae0787d-cdaa-4678-b3ae-6abab1bfad2d",
   "metadata": {},
   "outputs": [],
   "source": [
    "## Placeholder\n",
    "print(\"My name is {firstname} and age is {firstage}\".format(name,age))"
   ]
  },
  {
   "cell_type": "code",
   "execution_count": 8,
   "id": "8016ccbf-5aca-4baa-acd3-7369e53f95a7",
   "metadata": {},
   "outputs": [
    {
     "name": "stdout",
     "output_type": "stream",
     "text": [
      "My name is Harsh and age is 55\n"
     ]
    }
   ],
   "source": [
    "print(\"My name is {firstname} and age is {firstage}\".format(firstage=age,firstname=name))"
   ]
  },
  {
   "cell_type": "code",
   "execution_count": 10,
   "id": "26cd2951-25ae-4644-9829-90d3af8f49e2",
   "metadata": {},
   "outputs": [
    {
     "name": "stdout",
     "output_type": "stream",
     "text": [
      "My name is Harsh Mandal and age is 22. I have completed my graduation in BA English\n"
     ]
    }
   ],
   "source": [
    "name=\"Harsh Mandal\"\n",
    "degree=\"BA English\"\n",
    "age=22\n",
    "print(\"My name is {} and age is {}. I have completed my graduation in {}\".format(name,age,degree))"
   ]
  },
  {
   "cell_type": "markdown",
   "id": "e9f2ecaa-53d2-4737-b599-71a982bbf732",
   "metadata": {},
   "source": [
    "## Control flow\n",
    "### Decision Making statements\n",
    "   * It is kind of making decision during occurred situation of program execution and action can be taken to specified condition.\n",
    "   * It is up to you to decide which type of action want to take and execute the statements based upon True and False.\n",
    "\n",
    "**These are several topics of decision making which going to be discussed below:**\n",
    "  \n",
    "   1. **if**\n",
    "   2. **if else**\n",
    "   3. **if elif else**\n",
    "   4. **Nested if**\n",
    "   5. **Single Statement Suites**"
   ]
  },
  {
   "cell_type": "code",
   "execution_count": 2,
   "id": "35b6f88a-1fa3-4b20-ad60-b3efa0a4e8ed",
   "metadata": {
    "tags": []
   },
   "outputs": [
    {
     "name": "stdout",
     "output_type": "stream",
     "text": [
      "You are eligible\n"
     ]
    }
   ],
   "source": [
    "## if statements\n",
    "age=18\n",
    "if age>=18:\n",
    "    print(\"You are eligible to vote\")"
   ]
  },
  {
   "cell_type": "code",
   "execution_count": 11,
   "id": "49258d5f-dced-434f-9534-33e9f99df30b",
   "metadata": {},
   "outputs": [
    {
     "name": "stdout",
     "output_type": "stream",
     "text": [
      "You are not eligible to vote\n"
     ]
    }
   ],
   "source": [
    "## if statements\n",
    "age=8\n",
    "if age<18:\n",
    "    print(\"You are not eligible to vote\")"
   ]
  },
  {
   "cell_type": "code",
   "execution_count": 12,
   "id": "c19de85c-8767-4ed0-b1ee-e52292ab42b2",
   "metadata": {},
   "outputs": [
    {
     "name": "stdin",
     "output_type": "stream",
     "text": [
      " I am IronMan!!!\n"
     ]
    },
    {
     "data": {
      "text/plain": [
       "'I am IronMan!!!'"
      ]
     },
     "execution_count": 12,
     "metadata": {},
     "output_type": "execute_result"
    }
   ],
   "source": [
    "input()"
   ]
  },
  {
   "cell_type": "code",
   "execution_count": 13,
   "id": "bc31c2fa-ddd6-43d4-8a70-29749d2b2db5",
   "metadata": {},
   "outputs": [
    {
     "name": "stdin",
     "output_type": "stream",
     "text": [
      "Enter your age 44\n"
     ]
    }
   ],
   "source": [
    "age=int(input(\"Enter your age\"))"
   ]
  },
  {
   "cell_type": "code",
   "execution_count": 14,
   "id": "6c1bedb6-e669-4d0a-8bc7-32c5d27e59a5",
   "metadata": {},
   "outputs": [
    {
     "data": {
      "text/plain": [
       "44"
      ]
     },
     "execution_count": 14,
     "metadata": {},
     "output_type": "execute_result"
    }
   ],
   "source": [
    "age"
   ]
  },
  {
   "cell_type": "code",
   "execution_count": null,
   "id": "b25d72e4-05be-47c6-b475-4fbc3515682e",
   "metadata": {},
   "outputs": [],
   "source": [
    "##Task\n",
    "## Take a input of age\n",
    "## check whether age>=18 and age<=44\n",
    "## display a message you are young blood"
   ]
  },
  {
   "cell_type": "code",
   "execution_count": 18,
   "id": "43ebeadc-594c-49c1-a003-cfcdd81a71bb",
   "metadata": {},
   "outputs": [
    {
     "name": "stdin",
     "output_type": "stream",
     "text": [
      "Enter Age 17\n"
     ]
    }
   ],
   "source": [
    "age=int(input(\"Enter Age\"))\n",
    "if age>=18 and age<=44:\n",
    "    print(\"You are a Young Blood\")"
   ]
  },
  {
   "cell_type": "code",
   "execution_count": 19,
   "id": "446b6325-d7ed-4e1d-9d8e-1902c4feebf3",
   "metadata": {},
   "outputs": [
    {
     "name": "stdin",
     "output_type": "stream",
     "text": [
      "Enter Age 77\n"
     ]
    },
    {
     "name": "stdout",
     "output_type": "stream",
     "text": [
      "Thank you we will let you know\n"
     ]
    }
   ],
   "source": [
    "## if else statements\n",
    "age=int(input(\"Enter Age\"))\n",
    "if age>=18 and age<=44:\n",
    "    print(\"You are a Young Blood\")\n",
    "else:\n",
    "    print(\"Thank you we will let you know\")\n"
   ]
  },
  {
   "cell_type": "code",
   "execution_count": null,
   "id": "afffb332-dc37-4298-a06d-6d581f085c02",
   "metadata": {},
   "outputs": [],
   "source": [
    "## mall - input the product price\n",
    "## Product >1000 rs 20% off\n",
    "## print the product price\n",
    "## Product <=1000 rs 30% off"
   ]
  },
  {
   "cell_type": "code",
   "execution_count": 32,
   "id": "3cf80617-c8d2-4ea6-8079-0bdd7cd4f8e7",
   "metadata": {},
   "outputs": [
    {
     "name": "stdin",
     "output_type": "stream",
     "text": [
      "Enter the price 8000\n"
     ]
    },
    {
     "name": "stdout",
     "output_type": "stream",
     "text": [
      "The price of the product is 6400.0\n"
     ]
    }
   ],
   "source": [
    "product_price=int(input(\"Enter the price\"))\n",
    "if product_price>1000:\n",
    "    print(\"The price of the product is {}\".format(product_price*0.8))\n",
    "else:\n",
    "    print(\"The price of the product is {}\".format(product_price*0.7))"
   ]
  },
  {
   "cell_type": "code",
   "execution_count": 4,
   "id": "f6419e4c-5e04-452a-9508-77e8a4dee57f",
   "metadata": {},
   "outputs": [
    {
     "data": {
      "text/plain": [
       "1600"
      ]
     },
     "execution_count": 4,
     "metadata": {},
     "output_type": "execute_result"
    }
   ],
   "source": [
    "int((20/100)*8000)"
   ]
  },
  {
   "cell_type": "code",
   "execution_count": 5,
   "id": "0e3e43aa-721c-4943-b13c-f6b0e27ab964",
   "metadata": {},
   "outputs": [],
   "source": [
    "## mall - input the product price\n",
    "## product >3000 rs 20% off\n",
    "## product >=2000 rs and <=3000 30% off\n",
    "## price ==2999 you will get additional gift\n",
    "## product >=1000 rs and <=2000 40% off"
   ]
  },
  {
   "cell_type": "code",
   "execution_count": 17,
   "id": "1ce7e28c-5a7a-4f1c-84fe-abe4ccfc9175",
   "metadata": {},
   "outputs": [
    {
     "name": "stdin",
     "output_type": "stream",
     "text": [
      "Enter the price 2999\n"
     ]
    },
    {
     "name": "stdout",
     "output_type": "stream",
     "text": [
      "Congratulations! you got an additional gift\n",
      "the price of the product is 2099.2999999999997\n"
     ]
    }
   ],
   "source": [
    "price=int(input(\"Enter the price\"))\n",
    "if price>3000:\n",
    "       print(f\"the price of the product is {price*0.8}\")\n",
    "elif price>=2000 and price<=3000:\n",
    "    if price==2999:\n",
    "        print(\"Congratulations! you got an additional gift\")\n",
    "    print(\"the price of the product is {}\".format(price*0.7))\n",
    "elif price>=1000 and price <2000:\n",
    "    print(f\"the price of the product is {price*0.6}\")\n",
    "else:\n",
    "    print(\"Let's drink Tea!!!\")"
   ]
  },
  {
   "cell_type": "code",
   "execution_count": null,
   "id": "9f86135b-358c-48f4-b694-5e17e7df0216",
   "metadata": {},
   "outputs": [],
   "source": [
    "## single statement suites\n",
    "val=int(input('Enter the number'))\n",
    "if val<=999:print(\"Value is less than or equal to 999\")\n",
    "else:\n",
    "    Print(\"Fuck off\")"
   ]
  },
  {
   "cell_type": "code",
   "execution_count": null,
   "id": "545cdc51-0492-433a-af9a-1f92baa3d73a",
   "metadata": {},
   "outputs": [],
   "source": []
  }
 ],
 "metadata": {
  "kernelspec": {
   "display_name": "Python 3 (ipykernel)",
   "language": "python",
   "name": "python3"
  },
  "language_info": {
   "codemirror_mode": {
    "name": "ipython",
    "version": 3
   },
   "file_extension": ".py",
   "mimetype": "text/x-python",
   "name": "python",
   "nbconvert_exporter": "python",
   "pygments_lexer": "ipython3",
   "version": "3.10.8"
  }
 },
 "nbformat": 4,
 "nbformat_minor": 5
}
